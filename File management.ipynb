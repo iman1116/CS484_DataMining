{
 "cells": [
  {
   "cell_type": "markdown",
   "metadata": {},
   "source": [
    "First, we import the `zipfile` module to enable us to extract the Stata `dta` file."
   ]
  },
  {
   "cell_type": "code",
   "execution_count": 1,
   "metadata": {
    "collapsed": true
   },
   "outputs": [],
   "source": [
    "import zipfile"
   ]
  },
  {
   "cell_type": "markdown",
   "metadata": {},
   "source": [
    "We used the [ESS Cumulative Data Wizard](http://www.europeansocialsurvey.org/downloadwizard) to obtain a file containing all of the variables within the following categories:\n",
    "* Subjective well-being, social exclusion; religion; percieved discrimination; national and ethnic identity (only the ESS standard variables)\n",
    "* Gender, age and household composition\n",
    "* Socio-demographic profile, including: type of area, education and occupation, union membership, income, marital status (only the ESS standard variables)\n",
    "\n",
    "We did **not** use the country specific variables because we relied on the recoding done by the ESS staff. For example, we did not need the responses to a question asked in German, as the answers were incorporated in the ESS standard variables in a uniform manner."
   ]
  },
  {
   "cell_type": "code",
   "execution_count": 2,
   "metadata": {
    "collapsed": true
   },
   "outputs": [],
   "source": [
    "with zipfile.ZipFile(\"output4909048052568705413.zip\",\"r\") as zip_ref:\n",
    "    zip_ref.extractall(\"ESS_Cumulative\")"
   ]
  },
  {
   "cell_type": "code",
   "execution_count": 3,
   "metadata": {
    "collapsed": false
   },
   "outputs": [],
   "source": [
    "import pandas as pd"
   ]
  },
  {
   "cell_type": "code",
   "execution_count": 4,
   "metadata": {
    "collapsed": false
   },
   "outputs": [],
   "source": [
    "ESS_data_frame = pd.read_stata(\"ESS_Cumulative/ESS1-6e01_1_F1.dta\",\n",
    "                               convert_categoricals=False, \n",
    "                               convert_missing=False)"
   ]
  },
  {
   "cell_type": "code",
   "execution_count": 5,
   "metadata": {
    "collapsed": false
   },
   "outputs": [
    {
     "data": {
      "text/html": [
       "<div>\n",
       "<table border=\"1\" class=\"dataframe\">\n",
       "  <thead>\n",
       "    <tr style=\"text-align: right;\">\n",
       "      <th></th>\n",
       "      <th>cntry</th>\n",
       "      <th>cname</th>\n",
       "      <th>cedition</th>\n",
       "      <th>cproddat</th>\n",
       "      <th>cseqno</th>\n",
       "      <th>name</th>\n",
       "      <th>essround</th>\n",
       "      <th>edition</th>\n",
       "      <th>idno</th>\n",
       "      <th>dweight</th>\n",
       "      <th>...</th>\n",
       "      <th>emprm14</th>\n",
       "      <th>emplnom</th>\n",
       "      <th>jbspvm</th>\n",
       "      <th>occm14</th>\n",
       "      <th>occm14a</th>\n",
       "      <th>occm14b</th>\n",
       "      <th>atncrse</th>\n",
       "      <th>fxltph</th>\n",
       "      <th>mbltph</th>\n",
       "      <th>inttph</th>\n",
       "    </tr>\n",
       "  </thead>\n",
       "  <tbody>\n",
       "    <tr>\n",
       "      <th>0</th>\n",
       "      <td>BE</td>\n",
       "      <td>ESS1-6e01_1</td>\n",
       "      <td>1.1</td>\n",
       "      <td>09.03.2016</td>\n",
       "      <td>12394</td>\n",
       "      <td>ESS4e04_3</td>\n",
       "      <td>4</td>\n",
       "      <td>4.3</td>\n",
       "      <td>10202.0</td>\n",
       "      <td>1.0074</td>\n",
       "      <td>...</td>\n",
       "      <td>3.0</td>\n",
       "      <td>NaN</td>\n",
       "      <td>NaN</td>\n",
       "      <td>NaN</td>\n",
       "      <td>NaN</td>\n",
       "      <td>NaN</td>\n",
       "      <td>1.0</td>\n",
       "      <td>1.0</td>\n",
       "      <td>1.0</td>\n",
       "      <td>2.0</td>\n",
       "    </tr>\n",
       "    <tr>\n",
       "      <th>1</th>\n",
       "      <td>BE</td>\n",
       "      <td>ESS1-6e01_1</td>\n",
       "      <td>1.1</td>\n",
       "      <td>09.03.2016</td>\n",
       "      <td>12395</td>\n",
       "      <td>ESS4e04_3</td>\n",
       "      <td>4</td>\n",
       "      <td>4.3</td>\n",
       "      <td>10203.0</td>\n",
       "      <td>1.0074</td>\n",
       "      <td>...</td>\n",
       "      <td>1.0</td>\n",
       "      <td>NaN</td>\n",
       "      <td>2.0</td>\n",
       "      <td>NaN</td>\n",
       "      <td>NaN</td>\n",
       "      <td>5.0</td>\n",
       "      <td>1.0</td>\n",
       "      <td>2.0</td>\n",
       "      <td>1.0</td>\n",
       "      <td>2.0</td>\n",
       "    </tr>\n",
       "    <tr>\n",
       "      <th>2</th>\n",
       "      <td>BE</td>\n",
       "      <td>ESS1-6e01_1</td>\n",
       "      <td>1.1</td>\n",
       "      <td>09.03.2016</td>\n",
       "      <td>12396</td>\n",
       "      <td>ESS4e04_3</td>\n",
       "      <td>4</td>\n",
       "      <td>4.3</td>\n",
       "      <td>10207.0</td>\n",
       "      <td>1.0074</td>\n",
       "      <td>...</td>\n",
       "      <td>2.0</td>\n",
       "      <td>3.0</td>\n",
       "      <td>NaN</td>\n",
       "      <td>NaN</td>\n",
       "      <td>NaN</td>\n",
       "      <td>4.0</td>\n",
       "      <td>1.0</td>\n",
       "      <td>1.0</td>\n",
       "      <td>1.0</td>\n",
       "      <td>1.0</td>\n",
       "    </tr>\n",
       "    <tr>\n",
       "      <th>3</th>\n",
       "      <td>BE</td>\n",
       "      <td>ESS1-6e01_1</td>\n",
       "      <td>1.1</td>\n",
       "      <td>09.03.2016</td>\n",
       "      <td>12397</td>\n",
       "      <td>ESS4e04_3</td>\n",
       "      <td>4</td>\n",
       "      <td>4.3</td>\n",
       "      <td>10208.0</td>\n",
       "      <td>1.0074</td>\n",
       "      <td>...</td>\n",
       "      <td>3.0</td>\n",
       "      <td>NaN</td>\n",
       "      <td>NaN</td>\n",
       "      <td>NaN</td>\n",
       "      <td>NaN</td>\n",
       "      <td>NaN</td>\n",
       "      <td>1.0</td>\n",
       "      <td>1.0</td>\n",
       "      <td>1.0</td>\n",
       "      <td>2.0</td>\n",
       "    </tr>\n",
       "    <tr>\n",
       "      <th>4</th>\n",
       "      <td>BE</td>\n",
       "      <td>ESS1-6e01_1</td>\n",
       "      <td>1.1</td>\n",
       "      <td>09.03.2016</td>\n",
       "      <td>12398</td>\n",
       "      <td>ESS4e04_3</td>\n",
       "      <td>4</td>\n",
       "      <td>4.3</td>\n",
       "      <td>10302.0</td>\n",
       "      <td>1.0074</td>\n",
       "      <td>...</td>\n",
       "      <td>3.0</td>\n",
       "      <td>NaN</td>\n",
       "      <td>NaN</td>\n",
       "      <td>NaN</td>\n",
       "      <td>NaN</td>\n",
       "      <td>NaN</td>\n",
       "      <td>1.0</td>\n",
       "      <td>1.0</td>\n",
       "      <td>1.0</td>\n",
       "      <td>1.0</td>\n",
       "    </tr>\n",
       "  </tbody>\n",
       "</table>\n",
       "<p>5 rows × 268 columns</p>\n",
       "</div>"
      ],
      "text/plain": [
       "  cntry        cname cedition    cproddat  cseqno       name  essround  \\\n",
       "0    BE  ESS1-6e01_1      1.1  09.03.2016   12394  ESS4e04_3         4   \n",
       "1    BE  ESS1-6e01_1      1.1  09.03.2016   12395  ESS4e04_3         4   \n",
       "2    BE  ESS1-6e01_1      1.1  09.03.2016   12396  ESS4e04_3         4   \n",
       "3    BE  ESS1-6e01_1      1.1  09.03.2016   12397  ESS4e04_3         4   \n",
       "4    BE  ESS1-6e01_1      1.1  09.03.2016   12398  ESS4e04_3         4   \n",
       "\n",
       "  edition     idno  dweight   ...    emprm14  emplnom  jbspvm  occm14  \\\n",
       "0     4.3  10202.0   1.0074   ...        3.0      NaN     NaN     NaN   \n",
       "1     4.3  10203.0   1.0074   ...        1.0      NaN     2.0     NaN   \n",
       "2     4.3  10207.0   1.0074   ...        2.0      3.0     NaN     NaN   \n",
       "3     4.3  10208.0   1.0074   ...        3.0      NaN     NaN     NaN   \n",
       "4     4.3  10302.0   1.0074   ...        3.0      NaN     NaN     NaN   \n",
       "\n",
       "   occm14a  occm14b  atncrse  fxltph  mbltph  inttph  \n",
       "0      NaN      NaN      1.0     1.0     1.0     2.0  \n",
       "1      NaN      5.0      1.0     2.0     1.0     2.0  \n",
       "2      NaN      4.0      1.0     1.0     1.0     1.0  \n",
       "3      NaN      NaN      1.0     1.0     1.0     2.0  \n",
       "4      NaN      NaN      1.0     1.0     1.0     1.0  \n",
       "\n",
       "[5 rows x 268 columns]"
      ]
     },
     "execution_count": 5,
     "metadata": {},
     "output_type": "execute_result"
    }
   ],
   "source": [
    "ESS_data_frame.head()"
   ]
  },
  {
   "cell_type": "markdown",
   "metadata": {},
   "source": [
    "We used the [IPUMS website for the CPS](https://cps.ipums.org/) to obtain data from the ASEC for 2010, 2012, and 2014. We used Stata to apply the data definitions provided by IPUMS to obtain a dta file. \n"
   ]
  },
  {
   "cell_type": "code",
   "execution_count": 6,
   "metadata": {
    "collapsed": true
   },
   "outputs": [],
   "source": [
    "with zipfile.ZipFile(\"CPS_data_even_years.zip\",\"r\") as zip_ref:\n",
    "    zip_ref.extractall(\"CPS_data_even_years\")"
   ]
  },
  {
   "cell_type": "code",
   "execution_count": 7,
   "metadata": {
    "collapsed": false
   },
   "outputs": [],
   "source": [
    "CPS_data_frame = pd.read_stata(\"CPS_data_even_years/CPS_data.dta\",\n",
    "                               convert_categoricals=False, \n",
    "                               convert_missing=False)"
   ]
  },
  {
   "cell_type": "code",
   "execution_count": 8,
   "metadata": {
    "collapsed": false
   },
   "outputs": [
    {
     "data": {
      "text/html": [
       "<div>\n",
       "<table border=\"1\" class=\"dataframe\">\n",
       "  <thead>\n",
       "    <tr style=\"text-align: right;\">\n",
       "      <th></th>\n",
       "      <th>year</th>\n",
       "      <th>serial</th>\n",
       "      <th>numprec</th>\n",
       "      <th>hwtsupp</th>\n",
       "      <th>hhtenure</th>\n",
       "      <th>hhintype</th>\n",
       "      <th>region</th>\n",
       "      <th>statefip</th>\n",
       "      <th>statecensus</th>\n",
       "      <th>asecflag</th>\n",
       "      <th>...</th>\n",
       "      <th>educ99_mom</th>\n",
       "      <th>educ99_mom2</th>\n",
       "      <th>educ99_pop</th>\n",
       "      <th>educ99_pop2</th>\n",
       "      <th>educ99_sp</th>\n",
       "      <th>schlcoll_mom</th>\n",
       "      <th>schlcoll_mom2</th>\n",
       "      <th>schlcoll_pop</th>\n",
       "      <th>schlcoll_pop2</th>\n",
       "      <th>schlcoll_sp</th>\n",
       "    </tr>\n",
       "  </thead>\n",
       "  <tbody>\n",
       "    <tr>\n",
       "      <th>0</th>\n",
       "      <td>2010</td>\n",
       "      <td>1</td>\n",
       "      <td>1</td>\n",
       "      <td>485.989990</td>\n",
       "      <td>2</td>\n",
       "      <td>1</td>\n",
       "      <td>11</td>\n",
       "      <td>23</td>\n",
       "      <td>11</td>\n",
       "      <td>1</td>\n",
       "      <td>...</td>\n",
       "      <td>NaN</td>\n",
       "      <td>NaN</td>\n",
       "      <td>NaN</td>\n",
       "      <td>NaN</td>\n",
       "      <td>NaN</td>\n",
       "      <td>NaN</td>\n",
       "      <td>NaN</td>\n",
       "      <td>NaN</td>\n",
       "      <td>NaN</td>\n",
       "      <td>NaN</td>\n",
       "    </tr>\n",
       "    <tr>\n",
       "      <th>1</th>\n",
       "      <td>2010</td>\n",
       "      <td>2</td>\n",
       "      <td>1</td>\n",
       "      <td>531.710022</td>\n",
       "      <td>1</td>\n",
       "      <td>1</td>\n",
       "      <td>11</td>\n",
       "      <td>23</td>\n",
       "      <td>11</td>\n",
       "      <td>1</td>\n",
       "      <td>...</td>\n",
       "      <td>NaN</td>\n",
       "      <td>NaN</td>\n",
       "      <td>NaN</td>\n",
       "      <td>NaN</td>\n",
       "      <td>NaN</td>\n",
       "      <td>NaN</td>\n",
       "      <td>NaN</td>\n",
       "      <td>NaN</td>\n",
       "      <td>NaN</td>\n",
       "      <td>NaN</td>\n",
       "    </tr>\n",
       "    <tr>\n",
       "      <th>2</th>\n",
       "      <td>2010</td>\n",
       "      <td>3</td>\n",
       "      <td>2</td>\n",
       "      <td>474.399994</td>\n",
       "      <td>1</td>\n",
       "      <td>1</td>\n",
       "      <td>11</td>\n",
       "      <td>23</td>\n",
       "      <td>11</td>\n",
       "      <td>1</td>\n",
       "      <td>...</td>\n",
       "      <td>NaN</td>\n",
       "      <td>NaN</td>\n",
       "      <td>NaN</td>\n",
       "      <td>NaN</td>\n",
       "      <td>7.0</td>\n",
       "      <td>NaN</td>\n",
       "      <td>NaN</td>\n",
       "      <td>NaN</td>\n",
       "      <td>NaN</td>\n",
       "      <td>0.0</td>\n",
       "    </tr>\n",
       "    <tr>\n",
       "      <th>3</th>\n",
       "      <td>2010</td>\n",
       "      <td>3</td>\n",
       "      <td>2</td>\n",
       "      <td>474.399994</td>\n",
       "      <td>1</td>\n",
       "      <td>1</td>\n",
       "      <td>11</td>\n",
       "      <td>23</td>\n",
       "      <td>11</td>\n",
       "      <td>1</td>\n",
       "      <td>...</td>\n",
       "      <td>NaN</td>\n",
       "      <td>NaN</td>\n",
       "      <td>NaN</td>\n",
       "      <td>NaN</td>\n",
       "      <td>9.0</td>\n",
       "      <td>NaN</td>\n",
       "      <td>NaN</td>\n",
       "      <td>NaN</td>\n",
       "      <td>NaN</td>\n",
       "      <td>0.0</td>\n",
       "    </tr>\n",
       "    <tr>\n",
       "      <th>4</th>\n",
       "      <td>2010</td>\n",
       "      <td>4</td>\n",
       "      <td>2</td>\n",
       "      <td>486.649994</td>\n",
       "      <td>1</td>\n",
       "      <td>1</td>\n",
       "      <td>11</td>\n",
       "      <td>23</td>\n",
       "      <td>11</td>\n",
       "      <td>1</td>\n",
       "      <td>...</td>\n",
       "      <td>NaN</td>\n",
       "      <td>NaN</td>\n",
       "      <td>NaN</td>\n",
       "      <td>NaN</td>\n",
       "      <td>10.0</td>\n",
       "      <td>NaN</td>\n",
       "      <td>NaN</td>\n",
       "      <td>NaN</td>\n",
       "      <td>NaN</td>\n",
       "      <td>0.0</td>\n",
       "    </tr>\n",
       "  </tbody>\n",
       "</table>\n",
       "<p>5 rows × 260 columns</p>\n",
       "</div>"
      ],
      "text/plain": [
       "   year  serial  numprec     hwtsupp  hhtenure  hhintype  region  statefip  \\\n",
       "0  2010       1        1  485.989990         2         1      11        23   \n",
       "1  2010       2        1  531.710022         1         1      11        23   \n",
       "2  2010       3        2  474.399994         1         1      11        23   \n",
       "3  2010       3        2  474.399994         1         1      11        23   \n",
       "4  2010       4        2  486.649994         1         1      11        23   \n",
       "\n",
       "   statecensus  asecflag     ...       educ99_mom  educ99_mom2  educ99_pop  \\\n",
       "0           11         1     ...              NaN          NaN         NaN   \n",
       "1           11         1     ...              NaN          NaN         NaN   \n",
       "2           11         1     ...              NaN          NaN         NaN   \n",
       "3           11         1     ...              NaN          NaN         NaN   \n",
       "4           11         1     ...              NaN          NaN         NaN   \n",
       "\n",
       "   educ99_pop2  educ99_sp  schlcoll_mom  schlcoll_mom2  schlcoll_pop  \\\n",
       "0          NaN        NaN           NaN            NaN           NaN   \n",
       "1          NaN        NaN           NaN            NaN           NaN   \n",
       "2          NaN        7.0           NaN            NaN           NaN   \n",
       "3          NaN        9.0           NaN            NaN           NaN   \n",
       "4          NaN       10.0           NaN            NaN           NaN   \n",
       "\n",
       "   schlcoll_pop2  schlcoll_sp  \n",
       "0            NaN          NaN  \n",
       "1            NaN          NaN  \n",
       "2            NaN          0.0  \n",
       "3            NaN          0.0  \n",
       "4            NaN          0.0  \n",
       "\n",
       "[5 rows x 260 columns]"
      ]
     },
     "execution_count": 8,
     "metadata": {},
     "output_type": "execute_result"
    }
   ],
   "source": [
    "CPS_data_frame.head()"
   ]
  },
  {
   "cell_type": "code",
   "execution_count": null,
   "metadata": {
    "collapsed": true
   },
   "outputs": [],
   "source": []
  },
  {
   "cell_type": "code",
   "execution_count": null,
   "metadata": {
    "collapsed": true
   },
   "outputs": [],
   "source": []
  },
  {
   "cell_type": "code",
   "execution_count": null,
   "metadata": {
    "collapsed": true
   },
   "outputs": [],
   "source": []
  },
  {
   "cell_type": "code",
   "execution_count": null,
   "metadata": {
    "collapsed": true
   },
   "outputs": [],
   "source": []
  },
  {
   "cell_type": "code",
   "execution_count": null,
   "metadata": {
    "collapsed": true
   },
   "outputs": [],
   "source": []
  },
  {
   "cell_type": "code",
   "execution_count": null,
   "metadata": {
    "collapsed": true
   },
   "outputs": [],
   "source": []
  },
  {
   "cell_type": "code",
   "execution_count": null,
   "metadata": {
    "collapsed": true
   },
   "outputs": [],
   "source": []
  },
  {
   "cell_type": "code",
   "execution_count": null,
   "metadata": {
    "collapsed": true
   },
   "outputs": [],
   "source": []
  },
  {
   "cell_type": "code",
   "execution_count": null,
   "metadata": {
    "collapsed": true
   },
   "outputs": [],
   "source": []
  },
  {
   "cell_type": "code",
   "execution_count": null,
   "metadata": {
    "collapsed": true
   },
   "outputs": [],
   "source": []
  },
  {
   "cell_type": "code",
   "execution_count": null,
   "metadata": {
    "collapsed": true
   },
   "outputs": [],
   "source": []
  }
 ],
 "metadata": {
  "anaconda-cloud": {},
  "kernelspec": {
   "display_name": "Python [conda root]",
   "language": "python",
   "name": "conda-root-py"
  },
  "language_info": {
   "codemirror_mode": {
    "name": "ipython",
    "version": 3
   },
   "file_extension": ".py",
   "mimetype": "text/x-python",
   "name": "python",
   "nbconvert_exporter": "python",
   "pygments_lexer": "ipython3",
   "version": "3.5.2"
  }
 },
 "nbformat": 4,
 "nbformat_minor": 0
}
