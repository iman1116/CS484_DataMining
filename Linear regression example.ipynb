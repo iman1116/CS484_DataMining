{
 "cells": [
  {
   "cell_type": "code",
   "execution_count": 1,
   "metadata": {
    "collapsed": true
   },
   "outputs": [],
   "source": [
    "#PRE-PROCESSING \n",
    "%matplotlib inline\n",
    "import numpy as np\n",
    "import pandas as pd\n",
    "import matplotlib.pyplot as plt\n",
    "import seaborn as sns\n",
    "sns.set_context(\"talk\",font_scale=2)"
   ]
  },
  {
   "cell_type": "code",
   "execution_count": 2,
   "metadata": {
    "collapsed": true
   },
   "outputs": [],
   "source": [
    "CPS_data_frame = pd.read_stata(\"CPS_data_even_years/CPS_data.dta\",\n",
    "                               convert_categoricals=False, \n",
    "                               convert_missing=False)"
   ]
  },
  {
   "cell_type": "code",
   "execution_count": 3,
   "metadata": {
    "collapsed": true
   },
   "outputs": [],
   "source": [
    "CPS_data_frame = CPS_data_frame[10000<CPS_data_frame['inctot']] #Looking at income > 10K"
   ]
  },
  {
   "cell_type": "code",
   "execution_count": 4,
   "metadata": {
    "collapsed": true
   },
   "outputs": [],
   "source": [
    "CPS_data_frame = CPS_data_frame[CPS_data_frame['inctot']<500000] # & also income < 500K"
   ]
  },
  {
   "cell_type": "code",
   "execution_count": 5,
   "metadata": {
    "collapsed": true
   },
   "outputs": [],
   "source": [
    "CPS_data_frame = CPS_data_frame[CPS_data_frame['age'] >= 30] #age >=30 "
   ]
  },
  {
   "cell_type": "code",
   "execution_count": null,
   "metadata": {
    "collapsed": true
   },
   "outputs": [],
   "source": []
  },
  {
   "cell_type": "code",
   "execution_count": 6,
   "metadata": {
    "collapsed": true
   },
   "outputs": [],
   "source": [
    "CPS_data_frame['college'] = (CPS_data_frame['educ99'] >= 15).astype(int) #introducing college attribute (15 == bachelors degree)"
   ]
  },
  {
   "cell_type": "code",
   "execution_count": 7,
   "metadata": {
    "collapsed": false
   },
   "outputs": [
    {
     "data": {
      "text/plain": [
       "93728"
      ]
     },
     "execution_count": 7,
     "metadata": {},
     "output_type": "execute_result"
    }
   ],
   "source": [
    "np.sum(CPS_data_frame['college']) #adds up how many people have BA/BS degree"
   ]
  },
  {
   "cell_type": "code",
   "execution_count": 8,
   "metadata": {
    "collapsed": true
   },
   "outputs": [],
   "source": [
    "from sklearn import linear_model"
   ]
  },
  {
   "cell_type": "code",
   "execution_count": 9,
   "metadata": {
    "collapsed": true
   },
   "outputs": [],
   "source": [
    "reg_model = linear_model.LinearRegression()"
   ]
  },
  {
   "cell_type": "code",
   "execution_count": 10,
   "metadata": {
    "collapsed": false
   },
   "outputs": [],
   "source": [
    "temp_df = CPS_data_frame[['inctot', 'age', 'sex', 'labforce', 'college']] # TEMP features selected for now\n",
    "temp_df = temp_df[temp_df['age'] <= 34]"
   ]
  },
  {
   "cell_type": "code",
   "execution_count": 11,
   "metadata": {
    "collapsed": false
   },
   "outputs": [],
   "source": [
    "temp_df = temp_df.dropna() #drops rows with missing values"
   ]
  },
  {
   "cell_type": "code",
   "execution_count": 12,
   "metadata": {
    "collapsed": false
   },
   "outputs": [
    {
     "data": {
      "text/html": [
       "<div>\n",
       "<table border=\"1\" class=\"dataframe\">\n",
       "  <thead>\n",
       "    <tr style=\"text-align: right;\">\n",
       "      <th></th>\n",
       "      <th>inctot</th>\n",
       "      <th>age</th>\n",
       "      <th>sex</th>\n",
       "      <th>labforce</th>\n",
       "      <th>college</th>\n",
       "    </tr>\n",
       "  </thead>\n",
       "  <tbody>\n",
       "    <tr>\n",
       "      <th>7</th>\n",
       "      <td>24664.0</td>\n",
       "      <td>30</td>\n",
       "      <td>2</td>\n",
       "      <td>2</td>\n",
       "      <td>0</td>\n",
       "    </tr>\n",
       "    <tr>\n",
       "      <th>8</th>\n",
       "      <td>41000.0</td>\n",
       "      <td>33</td>\n",
       "      <td>1</td>\n",
       "      <td>2</td>\n",
       "      <td>0</td>\n",
       "    </tr>\n",
       "    <tr>\n",
       "      <th>17</th>\n",
       "      <td>10929.0</td>\n",
       "      <td>34</td>\n",
       "      <td>2</td>\n",
       "      <td>2</td>\n",
       "      <td>0</td>\n",
       "    </tr>\n",
       "    <tr>\n",
       "      <th>42</th>\n",
       "      <td>25000.0</td>\n",
       "      <td>33</td>\n",
       "      <td>2</td>\n",
       "      <td>2</td>\n",
       "      <td>0</td>\n",
       "    </tr>\n",
       "    <tr>\n",
       "      <th>52</th>\n",
       "      <td>20218.0</td>\n",
       "      <td>31</td>\n",
       "      <td>2</td>\n",
       "      <td>2</td>\n",
       "      <td>0</td>\n",
       "    </tr>\n",
       "    <tr>\n",
       "      <th>68</th>\n",
       "      <td>53300.0</td>\n",
       "      <td>34</td>\n",
       "      <td>1</td>\n",
       "      <td>2</td>\n",
       "      <td>1</td>\n",
       "    </tr>\n",
       "    <tr>\n",
       "      <th>69</th>\n",
       "      <td>52000.0</td>\n",
       "      <td>33</td>\n",
       "      <td>2</td>\n",
       "      <td>2</td>\n",
       "      <td>1</td>\n",
       "    </tr>\n",
       "    <tr>\n",
       "      <th>83</th>\n",
       "      <td>15500.0</td>\n",
       "      <td>31</td>\n",
       "      <td>2</td>\n",
       "      <td>2</td>\n",
       "      <td>0</td>\n",
       "    </tr>\n",
       "  </tbody>\n",
       "</table>\n",
       "</div>"
      ],
      "text/plain": [
       "     inctot  age  sex  labforce  college\n",
       "7   24664.0   30    2         2        0\n",
       "8   41000.0   33    1         2        0\n",
       "17  10929.0   34    2         2        0\n",
       "42  25000.0   33    2         2        0\n",
       "52  20218.0   31    2         2        0\n",
       "68  53300.0   34    1         2        1\n",
       "69  52000.0   33    2         2        1\n",
       "83  15500.0   31    2         2        0"
      ]
     },
     "execution_count": 12,
     "metadata": {},
     "output_type": "execute_result"
    }
   ],
   "source": [
    "temp_df.head(8)"
   ]
  },
  {
   "cell_type": "code",
   "execution_count": 13,
   "metadata": {
    "collapsed": false
   },
   "outputs": [
    {
     "data": {
      "text/plain": [
       "29747"
      ]
     },
     "execution_count": 13,
     "metadata": {},
     "output_type": "execute_result"
    }
   ],
   "source": [
    "np.sum(temp_df['labforce'] == 2) #adds up how many people are in the lab force"
   ]
  },
  {
   "cell_type": "code",
   "execution_count": 14,
   "metadata": {
    "collapsed": true
   },
   "outputs": [],
   "source": [
    "temp_df['worker'] = (temp_df['labforce'] == 2).astype(int) #converts boolean to integer "
   ]
  },
  {
   "cell_type": "code",
   "execution_count": 15,
   "metadata": {
    "collapsed": true
   },
   "outputs": [],
   "source": [
    "temp_df['female'] = (temp_df['sex'] == 2).astype(int) #converts boolean to integ for female (2== female)"
   ]
  },
  {
   "cell_type": "code",
   "execution_count": 16,
   "metadata": {
    "collapsed": true
   },
   "outputs": [],
   "source": [
    "temp_df['loginc'] = np.log(temp_df['inctot'] + 0.01) #normalization of data using natural log"
   ]
  },
  {
   "cell_type": "code",
   "execution_count": 17,
   "metadata": {
    "collapsed": false
   },
   "outputs": [
    {
     "data": {
      "text/plain": [
       "LinearRegression(copy_X=True, fit_intercept=True, n_jobs=1, normalize=False)"
      ]
     },
     "execution_count": 17,
     "metadata": {},
     "output_type": "execute_result"
    }
   ],
   "source": [
    "reg_model.fit(temp_df['college'].to_frame(), temp_df['loginc'].to_frame()) #model fitting\n",
    "# to balance the distribution - we use log of income\n",
    "# interpretation becomes easier\n",
    "# the model is more like the real world. example: % raise instead of # raise"
   ]
  },
  {
   "cell_type": "code",
   "execution_count": 18,
   "metadata": {
    "collapsed": false
   },
   "outputs": [
    {
     "name": "stdout",
     "output_type": "stream",
     "text": [
      "[[ 0.51051155]]\n",
      "0.152728142662\n"
     ]
    }
   ],
   "source": [
    "print(reg_model.coef_)\n",
    "print(reg_model.score(temp_df['college'].to_frame(), temp_df['loginc'].to_frame())) \n",
    "#1st number: 51% - that's how much more a 'college' person would make \n",
    "#2nd number: this model can explain more than 15% of the variation of income of the whole data\n"
   ]
  },
  {
   "cell_type": "code",
   "execution_count": 19,
   "metadata": {
    "collapsed": false
   },
   "outputs": [
    {
     "data": {
      "text/plain": [
       "LinearRegression(copy_X=True, fit_intercept=True, n_jobs=1, normalize=False)"
      ]
     },
     "execution_count": 19,
     "metadata": {},
     "output_type": "execute_result"
    }
   ],
   "source": [
    "reg_model.fit(np.asarray(temp_df[['college', 'age']]), np.asarray(temp_df['loginc'])) "
   ]
  },
  {
   "cell_type": "code",
   "execution_count": 20,
   "metadata": {
    "collapsed": false
   },
   "outputs": [
    {
     "name": "stdout",
     "output_type": "stream",
     "text": [
      "[ 0.50900663  0.02495914]\n",
      "0.155782226037\n"
     ]
    }
   ],
   "source": [
    "print(reg_model.coef_)\n",
    "print(reg_model.score(np.asarray(temp_df[['college', 'age']]), np.asarray(temp_df['loginc'])))\n",
    "# example: 2.75% raise"
   ]
  },
  {
   "cell_type": "code",
   "execution_count": 21,
   "metadata": {
    "collapsed": false
   },
   "outputs": [
    {
     "data": {
      "text/plain": [
       "LinearRegression(copy_X=True, fit_intercept=True, n_jobs=1, normalize=False)"
      ]
     },
     "execution_count": 21,
     "metadata": {},
     "output_type": "execute_result"
    }
   ],
   "source": [
    "reg_model.fit(np.asarray(temp_df[['college', 'female']]),\n",
    "              np.asarray(temp_df['loginc']))"
   ]
  },
  {
   "cell_type": "code",
   "execution_count": 22,
   "metadata": {
    "collapsed": false
   },
   "outputs": [
    {
     "name": "stdout",
     "output_type": "stream",
     "text": [
      "[ 0.54218662 -0.28206222]\n",
      "0.201171592374\n"
     ]
    }
   ],
   "source": [
    "print(reg_model.coef_)\n",
    "print(reg_model.score(np.asarray(temp_df[['college', 'female']]),\n",
    "              np.asarray(temp_df['loginc'])))\n",
    "#Being female meaning you make less "
   ]
  },
  {
   "cell_type": "code",
   "execution_count": 23,
   "metadata": {
    "collapsed": false
   },
   "outputs": [
    {
     "data": {
      "text/plain": [
       "LinearRegression(copy_X=True, fit_intercept=True, n_jobs=1, normalize=False)"
      ]
     },
     "execution_count": 23,
     "metadata": {},
     "output_type": "execute_result"
    }
   ],
   "source": [
    "reg_model.fit(np.asarray(temp_df[['college', 'age','female']]),\n",
    "              np.asarray(temp_df['loginc']))"
   ]
  },
  {
   "cell_type": "code",
   "execution_count": 24,
   "metadata": {
    "collapsed": false
   },
   "outputs": [
    {
     "name": "stdout",
     "output_type": "stream",
     "text": [
      "[ 0.5406821   0.0249796  -0.28207681]\n",
      "0.204230685441\n"
     ]
    }
   ],
   "source": [
    "print(reg_model.coef_)\n",
    "print(reg_model.score(np.asarray(temp_df[['college', 'age','female']]),\n",
    "              np.asarray(temp_df['loginc'])))"
   ]
  },
  {
   "cell_type": "code",
   "execution_count": 25,
   "metadata": {
    "collapsed": false
   },
   "outputs": [
    {
     "data": {
      "text/plain": [
       "LinearRegression(copy_X=True, fit_intercept=True, n_jobs=1, normalize=False)"
      ]
     },
     "execution_count": 25,
     "metadata": {},
     "output_type": "execute_result"
    }
   ],
   "source": [
    "reg_model.fit(np.asarray(temp_df[['college', 'age', 'female', 'worker']]),\n",
    "              np.asarray(temp_df['loginc']))"
   ]
  },
  {
   "cell_type": "code",
   "execution_count": 26,
   "metadata": {
    "collapsed": false
   },
   "outputs": [
    {
     "name": "stdout",
     "output_type": "stream",
     "text": [
      "[ 0.52823684  0.02425252 -0.27419702  0.3618321 ]\n",
      "0.222343869635\n"
     ]
    }
   ],
   "source": [
    "print(reg_model.coef_)\n",
    "print(reg_model.score(np.asarray(temp_df[['college', 'age', 'female', 'worker']]),\n",
    "              np.asarray(temp_df['loginc'])))"
   ]
  },
  {
   "cell_type": "code",
   "execution_count": 27,
   "metadata": {
    "collapsed": false
   },
   "outputs": [
    {
     "data": {
      "text/plain": [
       "31640"
      ]
     },
     "execution_count": 27,
     "metadata": {},
     "output_type": "execute_result"
    }
   ],
   "source": [
    "len(temp_df) #number of rows - the amount of poeple we are including in our sample"
   ]
  },
  {
   "cell_type": "code",
   "execution_count": 28,
   "metadata": {
    "collapsed": false
   },
   "outputs": [
    {
     "name": "stdout",
     "output_type": "stream",
     "text": [
      "Cross-validation scores for Regression Tree of max_depth 2:\n",
      "[ 0.21006854  0.1907208   0.19349355  0.20868698]\n",
      "Cross-validation scores for Regression Tree of max_depth 5:\n",
      "[ 0.23254872  0.21096237  0.21634741  0.22966457]\n"
     ]
    }
   ],
   "source": [
    "from sklearn import tree\n",
    "from sklearn.model_selection import cross_val_score\n",
    "from sklearn.model_selection import KFold\n",
    "\n",
    "\n",
    "regr_1 = tree.DecisionTreeRegressor(max_depth=2)\n",
    "regr_2 = tree.DecisionTreeRegressor(max_depth=5)\n",
    "\n",
    "X = (temp_df[['college', 'age', 'female', 'worker']]).values\n",
    "y = (temp_df['loginc']).values\n",
    "\n",
    "kfold = KFold(n_splits=4, shuffle=True, random_state=0)\n",
    "print(\"Cross-validation scores for Regression Tree of max_depth 2:\\n{}\".format(\n",
    "    cross_val_score(regr_1, X, y, cv=kfold)))\n",
    "\n",
    "kfold = KFold(n_splits=4, shuffle=True, random_state=0)\n",
    "print(\"Cross-validation scores for Regression Tree of max_depth 5:\\n{}\".format(\n",
    "    cross_val_score(regr_2, X, y, cv=kfold)))"
   ]
  },
  {
   "cell_type": "code",
   "execution_count": 29,
   "metadata": {
    "collapsed": false
   },
   "outputs": [],
   "source": [
    "temp_df2 = CPS_data_frame[['inctot', 'age', 'sex', 'labforce', 'college']]\n",
    "temp_df2 = temp_df2[temp_df2['age'] <= 39]\n",
    "temp_df2 = temp_df2[temp_df2['age'] >= 35]\n",
    "temp_df2 = temp_df2.dropna() #drops rows with missing values\n",
    "temp_df2['worker'] = (temp_df2['labforce'] == 2).astype(int) #converts boolean to integer \n",
    "temp_df2['female'] = (temp_df2['sex'] == 2).astype(int) #converts boolean to integ for female (2== female)\n",
    "temp_df2['loginc'] = np.log(temp_df2['inctot'] + 0.01) #normalization of data using natural log"
   ]
  },
  {
   "cell_type": "code",
   "execution_count": 30,
   "metadata": {
    "collapsed": true
   },
   "outputs": [],
   "source": [
    "X_test = (temp_df2[['college', 'age', 'female', 'worker']]).values\n",
    "y_test = (temp_df2['loginc']).values"
   ]
  },
  {
   "cell_type": "code",
   "execution_count": 31,
   "metadata": {
    "collapsed": false
   },
   "outputs": [
    {
     "data": {
      "text/plain": [
       "0.24559544864244331"
      ]
     },
     "execution_count": 31,
     "metadata": {},
     "output_type": "execute_result"
    }
   ],
   "source": [
    "reg_model.score(X_test,y_test)"
   ]
  },
  {
   "cell_type": "code",
   "execution_count": 169,
   "metadata": {
    "collapsed": false
   },
   "outputs": [
    {
     "data": {
      "text/plain": [
       "32799"
      ]
     },
     "execution_count": 169,
     "metadata": {},
     "output_type": "execute_result"
    }
   ],
   "source": [
    "len(X_test)"
   ]
  },
  {
   "cell_type": "code",
   "execution_count": 170,
   "metadata": {
    "collapsed": false
   },
   "outputs": [
    {
     "name": "stdout",
     "output_type": "stream",
     "text": [
      "0.201201964563\n",
      "0.205536237959\n"
     ]
    }
   ],
   "source": [
    "regr_1.fit(X,y)\n",
    "print(regr_1.score(X,y))\n",
    "print(regr_1.score(X_test,y_test))"
   ]
  },
  {
   "cell_type": "code",
   "execution_count": 171,
   "metadata": {
    "collapsed": false
   },
   "outputs": [
    {
     "name": "stdout",
     "output_type": "stream",
     "text": [
      "0.224569497201\n",
      "0.243300076131\n"
     ]
    }
   ],
   "source": [
    "regr_2.fit(X,y)\n",
    "print(regr_2.score(X,y))\n",
    "print(regr_2.score(X_test,y_test))"
   ]
  },
  {
   "cell_type": "code",
   "execution_count": 172,
   "metadata": {
    "collapsed": false
   },
   "outputs": [
    {
     "name": "stdout",
     "output_type": "stream",
     "text": [
      "Cross-validation scores for AdaBoost with 100 estimators:\n",
      "[ 0.23254872  0.21096237  0.21634741  0.22966457]\n"
     ]
    }
   ],
   "source": [
    "from sklearn.ensemble import AdaBoostRegressor\n",
    "\n",
    "regr_1_AdaBoost = AdaBoostRegressor(n_estimators = 100)\n",
    "\n",
    "print(\"Cross-validation scores for AdaBoost with 100 estimators:\\n{}\".format(\n",
    "    cross_val_score(regr_2, X, y, cv=kfold)))"
   ]
  },
  {
   "cell_type": "code",
   "execution_count": 173,
   "metadata": {
    "collapsed": false
   },
   "outputs": [
    {
     "name": "stdout",
     "output_type": "stream",
     "text": [
      "0.213687266878\n",
      "0.23689166845\n"
     ]
    }
   ],
   "source": [
    "regr_1_AdaBoost.fit(X,y)\n",
    "print(regr_1_AdaBoost.score(X,y))\n",
    "print(regr_1_AdaBoost.score(X_test,y_test))"
   ]
  },
  {
   "cell_type": "code",
   "execution_count": 174,
   "metadata": {
    "collapsed": false
   },
   "outputs": [
    {
     "data": {
      "text/plain": [
       "32799"
      ]
     },
     "execution_count": 174,
     "metadata": {},
     "output_type": "execute_result"
    }
   ],
   "source": [
    "len(temp_df2)"
   ]
  },
  {
   "cell_type": "code",
   "execution_count": 179,
   "metadata": {
    "collapsed": false
   },
   "outputs": [
    {
     "data": {
      "text/plain": [
       "(31640, 4)"
      ]
     },
     "execution_count": 179,
     "metadata": {},
     "output_type": "execute_result"
    }
   ],
   "source": [
    "X.shape"
   ]
  },
  {
   "cell_type": "code",
   "execution_count": 180,
   "metadata": {
    "collapsed": false
   },
   "outputs": [
    {
     "data": {
      "text/plain": [
       "(32799, 4)"
      ]
     },
     "execution_count": 180,
     "metadata": {},
     "output_type": "execute_result"
    }
   ],
   "source": [
    "X_test.shape"
   ]
  },
  {
   "cell_type": "code",
   "execution_count": 183,
   "metadata": {
    "collapsed": false
   },
   "outputs": [
    {
     "data": {
      "text/plain": [
       "1893"
      ]
     },
     "execution_count": 183,
     "metadata": {},
     "output_type": "execute_result"
    }
   ],
   "source": [
    "31640 - (temp_df['worker']).sum()"
   ]
  },
  {
   "cell_type": "code",
   "execution_count": 32,
   "metadata": {
    "collapsed": false
   },
   "outputs": [
    {
     "name": "stdout",
     "output_type": "stream",
     "text": [
      "Cross-validation scores for the originial linear regression:\n",
      "[ 0.23125705  0.21121298  0.21616658  0.22898754]\n"
     ]
    }
   ],
   "source": [
    "print(\"Cross-validation scores for the originial linear regression:\\n{}\".format(\n",
    "    cross_val_score(reg_model, X, y, cv=kfold)))"
   ]
  },
  {
   "cell_type": "code",
   "execution_count": null,
   "metadata": {
    "collapsed": true
   },
   "outputs": [],
   "source": []
  }
 ],
 "metadata": {
  "anaconda-cloud": {},
  "kernelspec": {
   "display_name": "Python [conda root]",
   "language": "python",
   "name": "conda-root-py"
  },
  "language_info": {
   "codemirror_mode": {
    "name": "ipython",
    "version": 3
   },
   "file_extension": ".py",
   "mimetype": "text/x-python",
   "name": "python",
   "nbconvert_exporter": "python",
   "pygments_lexer": "ipython3",
   "version": "3.5.2"
  }
 },
 "nbformat": 4,
 "nbformat_minor": 1
}
